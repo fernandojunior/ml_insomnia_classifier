{
 "cells": [
  {
   "cell_type": "code",
   "execution_count": 1,
   "metadata": {},
   "outputs": [],
   "source": [
    "import pandas as pd\n",
    "\n",
    "from sklearn.model_selection import train_test_split\n",
    "\n",
    "from utils import evaluate_scores"
   ]
  },
  {
   "cell_type": "markdown",
   "metadata": {},
   "source": [
    "# Data Load"
   ]
  },
  {
   "cell_type": "code",
   "execution_count": 2,
   "metadata": {},
   "outputs": [
    {
     "data": {
      "text/html": [
       "<div>\n",
       "<style scoped>\n",
       "    .dataframe tbody tr th:only-of-type {\n",
       "        vertical-align: middle;\n",
       "    }\n",
       "\n",
       "    .dataframe tbody tr th {\n",
       "        vertical-align: top;\n",
       "    }\n",
       "\n",
       "    .dataframe thead th {\n",
       "        text-align: right;\n",
       "    }\n",
       "</style>\n",
       "<table border=\"1\" class=\"dataframe\">\n",
       "  <thead>\n",
       "    <tr style=\"text-align: right;\">\n",
       "      <th></th>\n",
       "      <th>PATIENT ID</th>\n",
       "      <th>DATE MONTH</th>\n",
       "      <th>DATE DAY</th>\n",
       "      <th>DATE WEEK DAY</th>\n",
       "      <th>SLEEP START</th>\n",
       "      <th>SLEEP START LAST DAY 1</th>\n",
       "      <th>SLEEP START LAST DAY 2</th>\n",
       "      <th>SLEEP START LAST DAY 3</th>\n",
       "      <th>SLEEP START LAST DAY 4</th>\n",
       "      <th>SLEEP START LAST DAY 5</th>\n",
       "      <th>...</th>\n",
       "      <th>BAD NIGHT</th>\n",
       "      <th>BAD NIGHT LAST DAY 1</th>\n",
       "      <th>BAD NIGHT LAST DAY 2</th>\n",
       "      <th>BAD NIGHT LAST DAY 3</th>\n",
       "      <th>BAD NIGHT LAST DAY 4</th>\n",
       "      <th>BAD NIGHT LAST DAY 5</th>\n",
       "      <th>BAD NIGHT LAST DAY 6</th>\n",
       "      <th>FREQUENCY OF BAD NIGHTS</th>\n",
       "      <th>FREQUENCY OF GOOD NIGHTS</th>\n",
       "      <th>INSOMNIA</th>\n",
       "    </tr>\n",
       "  </thead>\n",
       "  <tbody>\n",
       "    <tr>\n",
       "      <th>70</th>\n",
       "      <td>b5581b1a132020fd07f64854c8fbe3df</td>\n",
       "      <td>1</td>\n",
       "      <td>7</td>\n",
       "      <td>4</td>\n",
       "      <td>22.166667</td>\n",
       "      <td>23.983333</td>\n",
       "      <td>22.700000</td>\n",
       "      <td>22.866667</td>\n",
       "      <td>23.450000</td>\n",
       "      <td>2.850000</td>\n",
       "      <td>...</td>\n",
       "      <td>0</td>\n",
       "      <td>1.0</td>\n",
       "      <td>0.0</td>\n",
       "      <td>0.0</td>\n",
       "      <td>1.0</td>\n",
       "      <td>0.0</td>\n",
       "      <td>1.0</td>\n",
       "      <td>3.0</td>\n",
       "      <td>4.0</td>\n",
       "      <td>1</td>\n",
       "    </tr>\n",
       "    <tr>\n",
       "      <th>71</th>\n",
       "      <td>1989843011c12217ba5ef04914877212</td>\n",
       "      <td>1</td>\n",
       "      <td>8</td>\n",
       "      <td>5</td>\n",
       "      <td>23.066667</td>\n",
       "      <td>22.166667</td>\n",
       "      <td>23.983333</td>\n",
       "      <td>22.700000</td>\n",
       "      <td>22.866667</td>\n",
       "      <td>23.450000</td>\n",
       "      <td>...</td>\n",
       "      <td>0</td>\n",
       "      <td>0.0</td>\n",
       "      <td>1.0</td>\n",
       "      <td>0.0</td>\n",
       "      <td>0.0</td>\n",
       "      <td>1.0</td>\n",
       "      <td>0.0</td>\n",
       "      <td>2.0</td>\n",
       "      <td>5.0</td>\n",
       "      <td>1</td>\n",
       "    </tr>\n",
       "    <tr>\n",
       "      <th>72</th>\n",
       "      <td>83b7e7305157d7b4a3be1885d0f8bdb3</td>\n",
       "      <td>1</td>\n",
       "      <td>9</td>\n",
       "      <td>6</td>\n",
       "      <td>23.216667</td>\n",
       "      <td>23.066667</td>\n",
       "      <td>22.166667</td>\n",
       "      <td>23.983333</td>\n",
       "      <td>22.700000</td>\n",
       "      <td>22.866667</td>\n",
       "      <td>...</td>\n",
       "      <td>0</td>\n",
       "      <td>0.0</td>\n",
       "      <td>0.0</td>\n",
       "      <td>1.0</td>\n",
       "      <td>0.0</td>\n",
       "      <td>0.0</td>\n",
       "      <td>1.0</td>\n",
       "      <td>2.0</td>\n",
       "      <td>5.0</td>\n",
       "      <td>1</td>\n",
       "    </tr>\n",
       "    <tr>\n",
       "      <th>73</th>\n",
       "      <td>1ae209b6f15b012c97fbb6e4af42d4e2</td>\n",
       "      <td>1</td>\n",
       "      <td>10</td>\n",
       "      <td>0</td>\n",
       "      <td>22.616667</td>\n",
       "      <td>23.216667</td>\n",
       "      <td>23.066667</td>\n",
       "      <td>22.166667</td>\n",
       "      <td>23.983333</td>\n",
       "      <td>22.700000</td>\n",
       "      <td>...</td>\n",
       "      <td>0</td>\n",
       "      <td>0.0</td>\n",
       "      <td>0.0</td>\n",
       "      <td>0.0</td>\n",
       "      <td>1.0</td>\n",
       "      <td>0.0</td>\n",
       "      <td>0.0</td>\n",
       "      <td>1.0</td>\n",
       "      <td>6.0</td>\n",
       "      <td>0</td>\n",
       "    </tr>\n",
       "    <tr>\n",
       "      <th>74</th>\n",
       "      <td>ea2ab5f4a4e6873b4227a2ca3f942b25</td>\n",
       "      <td>1</td>\n",
       "      <td>11</td>\n",
       "      <td>1</td>\n",
       "      <td>23.483333</td>\n",
       "      <td>22.616667</td>\n",
       "      <td>23.216667</td>\n",
       "      <td>23.066667</td>\n",
       "      <td>22.166667</td>\n",
       "      <td>23.983333</td>\n",
       "      <td>...</td>\n",
       "      <td>0</td>\n",
       "      <td>0.0</td>\n",
       "      <td>0.0</td>\n",
       "      <td>0.0</td>\n",
       "      <td>0.0</td>\n",
       "      <td>1.0</td>\n",
       "      <td>0.0</td>\n",
       "      <td>1.0</td>\n",
       "      <td>6.0</td>\n",
       "      <td>0</td>\n",
       "    </tr>\n",
       "  </tbody>\n",
       "</table>\n",
       "<p>5 rows × 56 columns</p>\n",
       "</div>"
      ],
      "text/plain": [
       "                          PATIENT ID  DATE MONTH  DATE DAY  DATE WEEK DAY  \\\n",
       "70  b5581b1a132020fd07f64854c8fbe3df           1         7              4   \n",
       "71  1989843011c12217ba5ef04914877212           1         8              5   \n",
       "72  83b7e7305157d7b4a3be1885d0f8bdb3           1         9              6   \n",
       "73  1ae209b6f15b012c97fbb6e4af42d4e2           1        10              0   \n",
       "74  ea2ab5f4a4e6873b4227a2ca3f942b25           1        11              1   \n",
       "\n",
       "    SLEEP START  SLEEP START LAST DAY 1  SLEEP START LAST DAY 2  \\\n",
       "70    22.166667               23.983333               22.700000   \n",
       "71    23.066667               22.166667               23.983333   \n",
       "72    23.216667               23.066667               22.166667   \n",
       "73    22.616667               23.216667               23.066667   \n",
       "74    23.483333               22.616667               23.216667   \n",
       "\n",
       "    SLEEP START LAST DAY 3  SLEEP START LAST DAY 4  SLEEP START LAST DAY 5  \\\n",
       "70               22.866667               23.450000                2.850000   \n",
       "71               22.700000               22.866667               23.450000   \n",
       "72               23.983333               22.700000               22.866667   \n",
       "73               22.166667               23.983333               22.700000   \n",
       "74               23.066667               22.166667               23.983333   \n",
       "\n",
       "    ...  BAD NIGHT  BAD NIGHT LAST DAY 1  BAD NIGHT LAST DAY 2  \\\n",
       "70  ...          0                   1.0                   0.0   \n",
       "71  ...          0                   0.0                   1.0   \n",
       "72  ...          0                   0.0                   0.0   \n",
       "73  ...          0                   0.0                   0.0   \n",
       "74  ...          0                   0.0                   0.0   \n",
       "\n",
       "    BAD NIGHT LAST DAY 3  BAD NIGHT LAST DAY 4  BAD NIGHT LAST DAY 5  \\\n",
       "70                   0.0                   1.0                   0.0   \n",
       "71                   0.0                   0.0                   1.0   \n",
       "72                   1.0                   0.0                   0.0   \n",
       "73                   0.0                   1.0                   0.0   \n",
       "74                   0.0                   0.0                   1.0   \n",
       "\n",
       "    BAD NIGHT LAST DAY 6  FREQUENCY OF BAD NIGHTS  FREQUENCY OF GOOD NIGHTS  \\\n",
       "70                   1.0                      3.0                       4.0   \n",
       "71                   0.0                      2.0                       5.0   \n",
       "72                   1.0                      2.0                       5.0   \n",
       "73                   0.0                      1.0                       6.0   \n",
       "74                   0.0                      1.0                       6.0   \n",
       "\n",
       "    INSOMNIA  \n",
       "70         1  \n",
       "71         1  \n",
       "72         1  \n",
       "73         0  \n",
       "74         0  \n",
       "\n",
       "[5 rows x 56 columns]"
      ]
     },
     "execution_count": 2,
     "metadata": {},
     "output_type": "execute_result"
    }
   ],
   "source": [
    "df = pd.read_parquet(\"../data/cleaned/insomnia_healthy_patients.parquet\")\n",
    "\n",
    "df.head()"
   ]
  },
  {
   "cell_type": "markdown",
   "metadata": {},
   "source": [
    "# Simple Feature Selection"
   ]
  },
  {
   "cell_type": "code",
   "execution_count": 3,
   "metadata": {},
   "outputs": [
    {
     "data": {
      "text/html": [
       "<div>\n",
       "<style scoped>\n",
       "    .dataframe tbody tr th:only-of-type {\n",
       "        vertical-align: middle;\n",
       "    }\n",
       "\n",
       "    .dataframe tbody tr th {\n",
       "        vertical-align: top;\n",
       "    }\n",
       "\n",
       "    .dataframe thead th {\n",
       "        text-align: right;\n",
       "    }\n",
       "</style>\n",
       "<table border=\"1\" class=\"dataframe\">\n",
       "  <thead>\n",
       "    <tr style=\"text-align: right;\">\n",
       "      <th></th>\n",
       "      <th>SLEEP START</th>\n",
       "      <th>SLEEP END</th>\n",
       "      <th>HOURS OF SLEEP</th>\n",
       "      <th>REM SLEEP</th>\n",
       "      <th>DEEP SLEEP</th>\n",
       "      <th>HEART RATE BELOW RESTING</th>\n",
       "      <th>BAD NIGHT</th>\n",
       "    </tr>\n",
       "  </thead>\n",
       "  <tbody>\n",
       "    <tr>\n",
       "      <th>70</th>\n",
       "      <td>22.166667</td>\n",
       "      <td>5.966667</td>\n",
       "      <td>6.800000</td>\n",
       "      <td>0.19</td>\n",
       "      <td>0.21</td>\n",
       "      <td>0.96</td>\n",
       "      <td>0</td>\n",
       "    </tr>\n",
       "    <tr>\n",
       "      <th>71</th>\n",
       "      <td>23.066667</td>\n",
       "      <td>8.083333</td>\n",
       "      <td>7.616667</td>\n",
       "      <td>0.12</td>\n",
       "      <td>0.17</td>\n",
       "      <td>0.98</td>\n",
       "      <td>0</td>\n",
       "    </tr>\n",
       "    <tr>\n",
       "      <th>72</th>\n",
       "      <td>23.216667</td>\n",
       "      <td>8.100000</td>\n",
       "      <td>7.783333</td>\n",
       "      <td>0.20</td>\n",
       "      <td>0.12</td>\n",
       "      <td>0.98</td>\n",
       "      <td>0</td>\n",
       "    </tr>\n",
       "    <tr>\n",
       "      <th>73</th>\n",
       "      <td>22.616667</td>\n",
       "      <td>7.150000</td>\n",
       "      <td>7.433333</td>\n",
       "      <td>0.23</td>\n",
       "      <td>0.18</td>\n",
       "      <td>0.96</td>\n",
       "      <td>0</td>\n",
       "    </tr>\n",
       "    <tr>\n",
       "      <th>74</th>\n",
       "      <td>23.483333</td>\n",
       "      <td>7.216667</td>\n",
       "      <td>6.983333</td>\n",
       "      <td>0.31</td>\n",
       "      <td>0.24</td>\n",
       "      <td>0.71</td>\n",
       "      <td>0</td>\n",
       "    </tr>\n",
       "  </tbody>\n",
       "</table>\n",
       "</div>"
      ],
      "text/plain": [
       "    SLEEP START  SLEEP END  HOURS OF SLEEP  REM SLEEP  DEEP SLEEP  \\\n",
       "70    22.166667   5.966667        6.800000       0.19        0.21   \n",
       "71    23.066667   8.083333        7.616667       0.12        0.17   \n",
       "72    23.216667   8.100000        7.783333       0.20        0.12   \n",
       "73    22.616667   7.150000        7.433333       0.23        0.18   \n",
       "74    23.483333   7.216667        6.983333       0.31        0.24   \n",
       "\n",
       "    HEART RATE BELOW RESTING  BAD NIGHT  \n",
       "70                      0.96          0  \n",
       "71                      0.98          0  \n",
       "72                      0.98          0  \n",
       "73                      0.96          0  \n",
       "74                      0.71          0  "
      ]
     },
     "execution_count": 3,
     "metadata": {},
     "output_type": "execute_result"
    }
   ],
   "source": [
    "target_col = 'BAD NIGHT'\n",
    "\n",
    "feature_cols = [\n",
    "    \"SLEEP START\",\n",
    "    \"SLEEP END\",\n",
    "    \"HOURS OF SLEEP\",\n",
    "    \"REM SLEEP\",\n",
    "    \"DEEP SLEEP\",\n",
    "    \"HEART RATE BELOW RESTING\",\n",
    "]\n",
    "\n",
    "df = df[feature_cols + [target_col]] \n",
    "\n",
    "df.head()"
   ]
  },
  {
   "cell_type": "markdown",
   "metadata": {},
   "source": [
    "# Train and Test Split"
   ]
  },
  {
   "cell_type": "code",
   "execution_count": 4,
   "metadata": {},
   "outputs": [],
   "source": [
    "X = df[feature_cols]\n",
    "y = df[target_col].astype(bool)\n",
    "\n",
    "X_train, X_test, y_train, y_test = train_test_split(X, y, test_size=0.3, random_state=42)"
   ]
  },
  {
   "cell_type": "markdown",
   "metadata": {},
   "source": [
    "# Train and Test Classification Models"
   ]
  },
  {
   "cell_type": "code",
   "execution_count": 5,
   "metadata": {},
   "outputs": [],
   "source": [
    "method_names = []\n",
    "method_accuracy_scores = []\n",
    "method_sensitivity_scores = []\n",
    "method_specificity_scores = []"
   ]
  },
  {
   "cell_type": "code",
   "execution_count": 6,
   "metadata": {},
   "outputs": [
    {
     "name": "stdout",
     "output_type": "stream",
     "text": [
      "Classification Scores: accuracy=0.9423076923076923 sensitivity=0.6666666666666666 specificity=1.0\n"
     ]
    }
   ],
   "source": [
    "from catboost import CatBoostClassifier\n",
    "\n",
    "model = CatBoostClassifier()\n",
    "\n",
    "model.fit(\n",
    "    X_train,\n",
    "    y_train,\n",
    "    eval_set=(X_test, y_test),\n",
    "    verbose=False,\n",
    ")\n",
    "\n",
    "y_hat = model.predict(X_test)\n",
    "accuracy_result, sensitivity_result, specificity_result = evaluate_scores(y_test, y_hat)\n",
    "\n",
    "method_names.append(\"Catboost\")\n",
    "method_accuracy_scores.append(accuracy_result)\n",
    "method_sensitivity_scores.append(sensitivity_result)\n",
    "method_specificity_scores.append(specificity_result)"
   ]
  },
  {
   "cell_type": "code",
   "execution_count": 7,
   "metadata": {},
   "outputs": [
    {
     "name": "stdout",
     "output_type": "stream",
     "text": [
      "Classification Scores: accuracy=0.9423076923076923 sensitivity=0.6666666666666666 specificity=1.0\n"
     ]
    }
   ],
   "source": [
    "from sklearn.naive_bayes import GaussianNB\n",
    "\n",
    "naive_bayes = GaussianNB()\n",
    "naive_bayes.fit(X_test, y_test)\n",
    "y_hat = model.predict(X_test)\n",
    "accuracy_result, sensitivity_result, specificity_result = evaluate_scores(y_test, y_hat)\n",
    "\n",
    "method_names.append(\"Naive Bayes\")\n",
    "method_accuracy_scores.append(accuracy_result)\n",
    "method_sensitivity_scores.append(sensitivity_result)\n",
    "method_specificity_scores.append(specificity_result)"
   ]
  },
  {
   "cell_type": "code",
   "execution_count": 8,
   "metadata": {},
   "outputs": [
    {
     "name": "stdout",
     "output_type": "stream",
     "text": [
      "Classification Scores: accuracy=0.9423076923076923 sensitivity=0.6666666666666666 specificity=1.0\n"
     ]
    }
   ],
   "source": [
    "from sklearn.linear_model import LogisticRegression\n",
    "\n",
    "log_reg = LogisticRegression()\n",
    "log_reg.fit(X_train,y_train)\n",
    "\n",
    "y_hat = model.predict(X_test)\n",
    "accuracy_result, sensitivity_result, specificity_result = evaluate_scores(y_test, y_hat)\n",
    "\n",
    "method_names.append(\"Logistic Regression\")\n",
    "method_accuracy_scores.append(accuracy_result)\n",
    "method_sensitivity_scores.append(sensitivity_result)\n",
    "method_specificity_scores.append(specificity_result)"
   ]
  },
  {
   "cell_type": "code",
   "execution_count": 9,
   "metadata": {},
   "outputs": [
    {
     "name": "stdout",
     "output_type": "stream",
     "text": [
      "Classification Scores: accuracy=0.9423076923076923 sensitivity=0.6666666666666666 specificity=1.0\n"
     ]
    }
   ],
   "source": [
    "from sklearn.ensemble import RandomForestClassifier\n",
    "\n",
    "rand_forest = RandomForestClassifier(n_estimators=100, random_state=42)\n",
    "rand_forest.fit(X_train, y_train)\n",
    "\n",
    "y_hat = model.predict(X_test)\n",
    "accuracy_result, sensitivity_result, specificity_result = evaluate_scores(y_test, y_hat)\n",
    "\n",
    "method_names.append(\"Random Forest\")\n",
    "method_accuracy_scores.append(accuracy_result)\n",
    "method_sensitivity_scores.append(sensitivity_result)\n",
    "method_specificity_scores.append(specificity_result)"
   ]
  },
  {
   "cell_type": "code",
   "execution_count": 10,
   "metadata": {},
   "outputs": [
    {
     "name": "stdout",
     "output_type": "stream",
     "text": [
      "Classification Scores: accuracy=0.9423076923076923 sensitivity=0.6666666666666666 specificity=1.0\n"
     ]
    }
   ],
   "source": [
    "from sklearn import svm\n",
    "\n",
    "clf = svm.SVC()\n",
    "clf.fit(X_train, y_train)\n",
    "\n",
    "y_hat = model.predict(X_test)\n",
    "accuracy_result, sensitivity_result, specificity_result = evaluate_scores(y_test, y_hat)\n",
    "\n",
    "method_names.append(\"SVM\")\n",
    "method_accuracy_scores.append(accuracy_result)\n",
    "method_sensitivity_scores.append(sensitivity_result)\n",
    "method_specificity_scores.append(specificity_result)"
   ]
  },
  {
   "cell_type": "markdown",
   "metadata": {},
   "source": [
    "# Compare model results\n",
    "\n",
    "All the models have the same result because we are using a syntetic database xD"
   ]
  },
  {
   "cell_type": "code",
   "execution_count": 11,
   "metadata": {},
   "outputs": [
    {
     "data": {
      "text/plain": [
       "Text(0, 0.5, 'Method Score')"
      ]
     },
     "execution_count": 11,
     "metadata": {},
     "output_type": "execute_result"
    },
    {
     "data": {
      "image/png": "[encoded data removed]",
      "text/plain": [
       "<Figure size 1500x1000 with 1 Axes>"
      ]
     },
     "metadata": {},
     "output_type": "display_data"
    }
   ],
   "source": [
    "import matplotlib.pyplot as plt\n",
    "\n",
    "plt.figure(figsize=(15,10))\n",
    "plt.bar(method_names, method_accuracy_scores,width=0.5)\n",
    "plt.xlabel('Method Name')\n",
    "plt.ylabel('Method Score')"
   ]
  },
  {
   "cell_type": "code",
   "execution_count": 12,
   "metadata": {},
   "outputs": [
    {
     "data": {
      "text/plain": [
       "Text(0, 0.5, 'Method Score')"
      ]
     },
     "execution_count": 12,
     "metadata": {},
     "output_type": "execute_result"
    },
    {
     "data": {
      "image/png": "[encoded data removed]",
      "text/plain": [
       "<Figure size 1500x1000 with 1 Axes>"
      ]
     },
     "metadata": {},
     "output_type": "display_data"
    }
   ],
   "source": [
    "import matplotlib.pyplot as plt\n",
    "\n",
    "plt.figure(figsize=(15,10))\n",
    "plt.bar(method_names, method_sensitivity_scores, width=0.5)\n",
    "plt.xlabel('Method Name')\n",
    "plt.ylabel('Method Score')"
   ]
  },
  {
   "cell_type": "code",
   "execution_count": 13,
   "metadata": {},
   "outputs": [
    {
     "data": {
      "text/plain": [
       "Text(0, 0.5, 'Method Score')"
      ]
     },
     "execution_count": 13,
     "metadata": {},
     "output_type": "execute_result"
    },
    {
     "data": {
      "image/png": "[encoded data removed]",
      "text/plain": [
       "<Figure size 1500x1000 with 1 Axes>"
      ]
     },
     "metadata": {},
     "output_type": "display_data"
    }
   ],
   "source": [
    "import matplotlib.pyplot as plt\n",
    "\n",
    "plt.figure(figsize=(15,10))\n",
    "plt.bar(method_names, method_specificity_scores, width=0.5)\n",
    "plt.xlabel('Method Name')\n",
    "plt.ylabel('Method Score')"
   ]
  }
 ],
 "metadata": {
  "kernelspec": {
   "display_name": "venv",
   "language": "python",
   "name": "python3"
  },
  "language_info": {
   "codemirror_mode": {
    "name": "ipython",
    "version": 3
   },
   "file_extension": ".py",
   "mimetype": "text/x-python",
   "name": "python",
   "nbconvert_exporter": "python",
   "pygments_lexer": "ipython3",
   "version": "3.8.7"
  }
 },
 "nbformat": 4,
 "nbformat_minor": 2
}
